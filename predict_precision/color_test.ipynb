{
 "cells": [
  {
   "cell_type": "code",
   "execution_count": 2,
   "metadata": {},
   "outputs": [],
   "source": [
    "import scanpy as sc\n",
    "import pandas as pd\n",
    "import numpy as np\n",
    "import seaborn as sns\n",
    "import matplotlib as mpl\n",
    "import matplotlib.pyplot as plt"
   ]
  },
  {
   "cell_type": "code",
   "execution_count": 3,
   "metadata": {},
   "outputs": [
    {
     "data": {
      "text/plain": [
       "AnnData object with n_obs × n_vars = 2638 × 13714\n",
       "    obs: 'nFeaturess_RNA', 'nFeaturess_RNA_by_counts', 'total_counts', 'total_counts_mt', 'pct_counts_mt', 'leiden'\n",
       "    var: 'gene_ids', 'n_cells', 'mt', 'n_cells_by_counts', 'mean_counts', 'pct_dropout_by_counts', 'total_counts', 'highly.variable', 'mvp.mean', 'mvp.dispersion', 'mvp.dispersion.scaled'\n",
       "    obsm: 'X_pca', 'X_umap'"
      ]
     },
     "execution_count": 3,
     "metadata": {},
     "output_type": "execute_result"
    }
   ],
   "source": [
    "adata = sc.read('D:/data/pbmc3k_test.h5ad')\n",
    "adata"
   ]
  },
  {
   "cell_type": "code",
   "execution_count": 4,
   "metadata": {},
   "outputs": [
    {
     "data": {
      "text/html": [
       "<div>\n",
       "<style scoped>\n",
       "    .dataframe tbody tr th:only-of-type {\n",
       "        vertical-align: middle;\n",
       "    }\n",
       "\n",
       "    .dataframe tbody tr th {\n",
       "        vertical-align: top;\n",
       "    }\n",
       "\n",
       "    .dataframe thead th {\n",
       "        text-align: right;\n",
       "    }\n",
       "</style>\n",
       "<table border=\"1\" class=\"dataframe\">\n",
       "  <thead>\n",
       "    <tr style=\"text-align: right;\">\n",
       "      <th></th>\n",
       "      <th>nFeaturess_RNA</th>\n",
       "      <th>nFeaturess_RNA_by_counts</th>\n",
       "      <th>total_counts</th>\n",
       "      <th>total_counts_mt</th>\n",
       "      <th>pct_counts_mt</th>\n",
       "      <th>leiden</th>\n",
       "    </tr>\n",
       "  </thead>\n",
       "  <tbody>\n",
       "    <tr>\n",
       "      <th>AAACATACAACCAC-1</th>\n",
       "      <td>781</td>\n",
       "      <td>779</td>\n",
       "      <td>2419.0</td>\n",
       "      <td>73.0</td>\n",
       "      <td>3.017776</td>\n",
       "      <td>3</td>\n",
       "    </tr>\n",
       "    <tr>\n",
       "      <th>AAACATTGAGCTAC-1</th>\n",
       "      <td>1352</td>\n",
       "      <td>1352</td>\n",
       "      <td>4903.0</td>\n",
       "      <td>186.0</td>\n",
       "      <td>3.793596</td>\n",
       "      <td>2</td>\n",
       "    </tr>\n",
       "    <tr>\n",
       "      <th>AAACATTGATCAGC-1</th>\n",
       "      <td>1131</td>\n",
       "      <td>1129</td>\n",
       "      <td>3147.0</td>\n",
       "      <td>28.0</td>\n",
       "      <td>0.889736</td>\n",
       "      <td>0</td>\n",
       "    </tr>\n",
       "    <tr>\n",
       "      <th>AAACCGTGCTTCCG-1</th>\n",
       "      <td>960</td>\n",
       "      <td>960</td>\n",
       "      <td>2639.0</td>\n",
       "      <td>46.0</td>\n",
       "      <td>1.743085</td>\n",
       "      <td>1</td>\n",
       "    </tr>\n",
       "    <tr>\n",
       "      <th>AAACCGTGTATGCG-1</th>\n",
       "      <td>522</td>\n",
       "      <td>521</td>\n",
       "      <td>980.0</td>\n",
       "      <td>12.0</td>\n",
       "      <td>1.224490</td>\n",
       "      <td>4</td>\n",
       "    </tr>\n",
       "  </tbody>\n",
       "</table>\n",
       "</div>"
      ],
      "text/plain": [
       "                  nFeaturess_RNA  nFeaturess_RNA_by_counts  total_counts  \\\n",
       "AAACATACAACCAC-1             781                       779        2419.0   \n",
       "AAACATTGAGCTAC-1            1352                      1352        4903.0   \n",
       "AAACATTGATCAGC-1            1131                      1129        3147.0   \n",
       "AAACCGTGCTTCCG-1             960                       960        2639.0   \n",
       "AAACCGTGTATGCG-1             522                       521         980.0   \n",
       "\n",
       "                  total_counts_mt  pct_counts_mt leiden  \n",
       "AAACATACAACCAC-1             73.0       3.017776      3  \n",
       "AAACATTGAGCTAC-1            186.0       3.793596      2  \n",
       "AAACATTGATCAGC-1             28.0       0.889736      0  \n",
       "AAACCGTGCTTCCG-1             46.0       1.743085      1  \n",
       "AAACCGTGTATGCG-1             12.0       1.224490      4  "
      ]
     },
     "execution_count": 4,
     "metadata": {},
     "output_type": "execute_result"
    }
   ],
   "source": [
    "adata.obs.head()"
   ]
  },
  {
   "cell_type": "code",
   "execution_count": 5,
   "metadata": {},
   "outputs": [
    {
     "data": {
      "text/plain": [
       "{'0': '#FFFF00',\n",
       " '1': '#1CE6FF',\n",
       " '2': '#FF34FF',\n",
       " '3': '#FF4A46',\n",
       " '4': '#008941',\n",
       " '5': '#006FA6',\n",
       " '6': '#A30059',\n",
       " '7': '#FFDBE5'}"
      ]
     },
     "execution_count": 5,
     "metadata": {},
     "output_type": "execute_result"
    }
   ],
   "source": [
    "color_dict = {}\n",
    "categories = adata.obs.leiden.cat.categories\n",
    "group_num = len(categories)\n",
    "for i in range(group_num):\n",
    "    color_dict[categories[i]] = sc.pl.palettes.godsnot_102[i]\n",
    "color_dict"
   ]
  },
  {
   "cell_type": "code",
   "execution_count": 6,
   "metadata": {},
   "outputs": [
    {
     "data": {
      "text/plain": [
       "<AxesSubplot:xlabel='leiden', ylabel='total_counts'>"
      ]
     },
     "execution_count": 6,
     "metadata": {},
     "output_type": "execute_result"
    },
    {
     "data": {
      "image/png": "[encoded data removed]",
      "text/plain": [
       "<Figure size 432x288 with 1 Axes>"
      ]
     },
     "metadata": {
      "needs_background": "light"
     },
     "output_type": "display_data"
    }
   ],
   "source": [
    "sns.barplot(data=adata.obs,x='leiden',y='total_counts',palette=color_dict)"
   ]
  },
  {
   "cell_type": "code",
   "execution_count": 7,
   "metadata": {},
   "outputs": [
    {
     "data": {
      "text/plain": [
       "<AxesSubplot:xlabel='leiden', ylabel='total_counts'>"
      ]
     },
     "execution_count": 7,
     "metadata": {},
     "output_type": "execute_result"
    },
    {
     "data": {
      "image/png": "[encoded data removed]",
      "text/plain": [
       "<Figure size 432x288 with 1 Axes>"
      ]
     },
     "metadata": {
      "needs_background": "light"
     },
     "output_type": "display_data"
    }
   ],
   "source": [
    "color_dict['xxx'] = 'black'\n",
    "sns.barplot(data=adata.obs,x='leiden',y='total_counts',palette=color_dict)"
   ]
  },
  {
   "cell_type": "code",
   "execution_count": null,
   "metadata": {},
   "outputs": [],
   "source": []
  }
 ],
 "metadata": {
  "kernelspec": {
   "display_name": "Python 3.10.4 ('scanpy_env')",
   "language": "python",
   "name": "python3"
  },
  "language_info": {
   "codemirror_mode": {
    "name": "ipython",
    "version": 3
   },
   "file_extension": ".py",
   "mimetype": "text/x-python",
   "name": "python",
   "nbconvert_exporter": "python",
   "pygments_lexer": "ipython3",
   "version": "3.10.4"
  },
  "orig_nbformat": 4,
  "vscode": {
   "interpreter": {
    "hash": "55d9b96c8dd8d5aceefb5d2c699fd7f38dfde03f369344fb9176ffc63d0e2a3a"
   }
  }
 },
 "nbformat": 4,
 "nbformat_minor": 2
}
